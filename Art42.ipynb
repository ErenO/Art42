{
 "cells": [
  {
   "cell_type": "code",
   "execution_count": 125,
   "metadata": {},
   "outputs": [],
   "source": [
    "import cv2\n",
    "import numpy as np\n",
    "import os\n",
    "from tqdm import tqdm\n",
    "from random import shuffle\n",
    "from tqdm import tqdm\n",
    "import tensorflow as tf\n",
    "import matplotlib.pyplot as plt\n",
    "import tflearn\n",
    "from tflearn.layers.conv import conv_2d, max_pool_2d\n",
    "from tflearn.layers.core import input_data, dropout, fully_connected\n",
    "from tflearn.layers.estimator import regression\n",
    "%matplotlib inline\n",
    "TRAIN_DIR = 'train'\n",
    "TEST_DIR = 'test'\n",
    "IMG_SIZE = 200\n",
    "LR = 1e-3\n",
    "MODEL_NAME = 'art42-convnet'\n",
    "art_list = ['ROA',\n",
    "            'ROTI',\n",
    "            'SETH',\n",
    "            'STEW',\n",
    "            'RERO',\n",
    "            'OMEYER',\n",
    "            'JR',\n",
    "            'KUKA',\n",
    "            'EVOL',\n",
    "            'GRIS1',\n",
    "            'PANTONIO',\n",
    "            'DRAN',\n",
    "            'JEF_AEROSOL',\n",
    "            'ZEVS',\n",
    "            'BANKSY',\n",
    "            'C215']"
   ]
  },
  {
   "cell_type": "code",
   "execution_count": 99,
   "metadata": {},
   "outputs": [],
   "source": [
    "def create_label(image_name):\n",
    "#     print(\"hello \" + image_name)\n",
    "    \"\"\" Create an one-hot encoded vector from image name \"\"\"\n",
    "    word_label = image_name.split('.')[-2]\n",
    "#     print (\"word_label \" + word_label)\n",
    "    if 'ROA' in word_label:\n",
    "#         print(\"ROAAAAAAA\")\n",
    "        return np.array([1,0,0,0,0,0,0,0,0,0,0,0,0,0,0,0,0])\n",
    "    elif 'ROTI' in word_label:\n",
    "        return np.array([0,1,0,0,0,0,0,0,0,0,0,0,0,0,0,0,0])\n",
    "    elif 'SETH' in word_label:\n",
    "        return np.array([0,0,1,0,0,0,0,0,0,0,0,0,0,0,0,0,0])\n",
    "    elif 'STEW' in word_label:\n",
    "        return np.array([0,0,0,1,0,0,0,0,0,0,0,0,0,0,0,0,0])\n",
    "    elif 'RERO' in word_label:\n",
    "        return np.array([0,0,0,0,1,0,0,0,0,0,0,0,0,0,0,0,0])\n",
    "    elif 'OMEYER' in word_label:\n",
    "        return np.array([0,0,0,0,0,1,0,0,0,0,0,0,0,0,0,0,0])\n",
    "    elif 'JR' in word_label:\n",
    "        return np.array([0,0,0,0,0,0,1,0,0,0,0,0,0,0,0,0,0])\n",
    "    elif 'KUKA' in word_label:\n",
    "        return np.array([0,0,0,0,0,0,0,1,0,0,0,0,0,0,0,0,0])\n",
    "    elif 'EVOL' in word_label:\n",
    "        return np.array([0,0,0,0,0,0,0,0,1,0,0,0,0,0,0,0,0])\n",
    "    elif 'GRIS1' in word_label:\n",
    "        return np.array([0,0,0,0,0,0,0,0,0,1,0,0,0,0,0,0,0])\n",
    "    elif 'BRUSK' in word_label:\n",
    "        return np.array([0,0,0,0,0,0,0,0,0,0,1,0,0,0,0,0,0])\n",
    "    elif 'PANTONIO' in word_label:\n",
    "        return np.array([0,0,0,0,0,0,0,0,0,0,0,1,0,0,0,0,0])\n",
    "    elif 'DRAN' in word_label:\n",
    "        return np.array([0,0,0,0,0,0,0,0,0,0,0,0,1,0,0,0,0])\n",
    "    elif 'JEF_AEROSOL' in word_label:\n",
    "        return np.array([0,0,0,0,0,0,0,0,0,0,0,0,0,1,0,0,0])\n",
    "    elif 'ZEVS' in word_label:\n",
    "        return np.array([0,0,0,0,0,0,0,0,0,0,0,0,0,0,1,0,0])\n",
    "    elif 'BANKSY' in word_label:\n",
    "        return np.array([0,0,0,0,0,0,0,0,0,0,0,0,0,0,0,1,0])\n",
    "    elif 'C215' in word_label:\n",
    "        return np.array([0,0,0,0,0,0,0,0,0,0,0,0,0,0,0,0,1])"
   ]
  },
  {
   "cell_type": "code",
   "execution_count": 100,
   "metadata": {},
   "outputs": [],
   "source": [
    "def create_train_data():\n",
    "    training_data = []\n",
    "    for img in tqdm(os.listdir(TRAIN_DIR)):\n",
    "        path = os.path.join(TRAIN_DIR, img)\n",
    "        img_data = cv2.imread(path, cv2.IMREAD_GRAYSCALE)\n",
    "        img_data = cv2.resize(img_data, (IMG_SIZE, IMG_SIZE))\n",
    "        training_data.append([np.array(img_data), create_label(img)])\n",
    "    shuffle(training_data)\n",
    "    np.save('train_data.npy', training_data)\n",
    "    print (\"IT'S OK TRAIN DATA\")\n",
    "    return training_data"
   ]
  },
  {
   "cell_type": "code",
   "execution_count": 132,
   "metadata": {},
   "outputs": [],
   "source": [
    "def create_test_data():\n",
    "    testing_data = []\n",
    "    for img in tqdm(os.listdir(TEST_DIR)):\n",
    "        path = os.path.join(TEST_DIR,img)\n",
    "        img_num = img.split('.')[0]\n",
    "        img_data = cv2.imread(path, cv2.IMREAD_GRAYSCALE)\n",
    "        img_data = cv2.resize(img_data, (IMG_SIZE, IMG_SIZE))\n",
    "        print(img_num)\n",
    "        testing_data.append([np.array(img_data), img_num])\n",
    "\n",
    "    shuffle(testing_data)\n",
    "    print (\"IT'S OK TEST DATA\")\n",
    "    np.save('test_data.npy', testing_data)\n",
    "    return testing_data"
   ]
  },
  {
   "cell_type": "code",
   "execution_count": 133,
   "metadata": {},
   "outputs": [
    {
     "name": "stderr",
     "output_type": "stream",
     "text": [
      "100%|██████████| 94/94 [00:00<00:00, 2891.46it/s]\n",
      "100%|██████████| 35/35 [00:00<00:00, 2105.76it/s]"
     ]
    },
    {
     "name": "stdout",
     "output_type": "stream",
     "text": [
      "IT'S OK TRAIN DATA\n",
      "KUKA_5\n",
      "EVOL_10\n",
      "INVADER_6\n",
      "OMEYER_6\n",
      "EVOL_9\n",
      "GRIS1_2\n",
      "JEF_AEROSOL_1\n",
      "BRUSK_8\n",
      "ZEVS_4\n",
      "GRIS1_12\n",
      "JR_8\n",
      "STEW_4\n",
      "ROTI_5\n",
      "DRAN_7\n",
      "ROA_8\n",
      "SETH_6\n",
      "RERO_2\n",
      "PANTONIO_6\n",
      "C215_4\n",
      "ZEVS_5\n",
      "C215_8\n",
      "BRUSK_7\n",
      "BANKSY_5\n",
      "ROTI_6\n",
      "C215_7\n",
      "OMEYER_7\n",
      "INVADER_5\n",
      "EVOL_8\n",
      "BANKSY_4\n",
      "DRAN_8\n",
      "STEW_5\n",
      "DRAN_9\n",
      "SETH_7\n",
      "PANTONIO_5\n",
      "JR_9\n",
      "IT'S OK TEST DATA\n"
     ]
    },
    {
     "name": "stderr",
     "output_type": "stream",
     "text": [
      "\n"
     ]
    }
   ],
   "source": [
    "# If dataset is not created:\n",
    "train_data = create_train_data()\n",
    "test_data = create_test_data()\n",
    "# If you have already created the dataset:\n",
    "# train_data = np.load('train_data.npy')\n",
    "# test_data = np.load('test_data.npy')\n",
    "train = train_data[:-500]\n",
    "test = train_data[-500:]\n",
    "X_train = np.array([i[0] for i in train]).reshape(-1, IMG_SIZE, IMG_SIZE, 1)\n",
    "y_train = [i[1] for i in train]\n",
    "X_test = np.array([i[0] for i in test]).reshape(-1, IMG_SIZE, IMG_SIZE, 1)\n",
    "y_test = [i[1] for i in test]"
   ]
  },
  {
   "cell_type": "code",
   "execution_count": 103,
   "metadata": {},
   "outputs": [
    {
     "name": "stderr",
     "output_type": "stream",
     "text": [
      "100%|██████████| 94/94 [00:00<00:00, 3131.57it/s]\n",
      "100%|██████████| 35/35 [00:00<00:00, 2851.94it/s]"
     ]
    },
    {
     "name": "stdout",
     "output_type": "stream",
     "text": [
      "IT'S OK TRAIN DATA\n",
      "IT'S OK TEST DATA\n"
     ]
    },
    {
     "name": "stderr",
     "output_type": "stream",
     "text": [
      "\n"
     ]
    }
   ],
   "source": [
    "# If dataset is not created:\n",
    "train_data = create_train_data()\n",
    "test_data = create_test_data()\n",
    "# If you have already created the dataset:\n",
    "# train_data = np.load('train_data.npy')\n",
    "# test_data = np.load('test_data.npy')\n",
    "train = train_data[:-500]\n",
    "test = train_data[-500:]\n",
    "X_train = np.array([i[0] for i in train]).reshape(-1, IMG_SIZE, IMG_SIZE, 1)\n",
    "y_train = [i[1] for i in train]\n",
    "X_test = np.array([i[0] for i in test]).reshape(-1, IMG_SIZE, IMG_SIZE, 1)\n",
    "y_test = [i[1] for i in test]\n"
   ]
  },
  {
   "cell_type": "code",
   "execution_count": 104,
   "metadata": {},
   "outputs": [
    {
     "name": "stdout",
     "output_type": "stream",
     "text": [
      "WARNING:tensorflow:From /usr/local/lib/python3.5/dist-packages/tflearn/initializations.py:119: UniformUnitScaling.__init__ (from tensorflow.python.ops.init_ops) is deprecated and will be removed in a future version.\n",
      "Instructions for updating:\n",
      "Use tf.initializers.variance_scaling instead with distribution=uniform to get equivalent behavior.\n",
      "---------------------------------\n",
      "Run id: art42-convnet\n",
      "Log directory: log/\n",
      "INFO:tensorflow:Summary name Accuracy/ (raw) is illegal; using Accuracy/__raw_ instead.\n",
      "---------------------------------\n",
      "Training samples: 0\n",
      "Validation samples: 94\n",
      "--\n"
     ]
    }
   ],
   "source": [
    "tf.reset_default_graph()\n",
    "convnet = input_data(shape=[None, IMG_SIZE, IMG_SIZE, 1], name='input')\n",
    "convnet = conv_2d(convnet, 32, 5, activation='relu')\n",
    "convnet = max_pool_2d(convnet, 5)\n",
    "convnet = conv_2d(convnet, 64, 5, activation='relu')\n",
    "convnet = max_pool_2d(convnet, 5)\n",
    "convnet = conv_2d(convnet, 128, 5, activation='relu')\n",
    "convnet = max_pool_2d(convnet, 5)\n",
    "convnet = conv_2d(convnet, 64, 5, activation='relu')\n",
    "convnet = max_pool_2d(convnet, 5)\n",
    "convnet = conv_2d(convnet, 32, 5, activation='relu')\n",
    "convnet = max_pool_2d(convnet, 5)\n",
    "convnet = fully_connected(convnet, 1024, activation='relu')\n",
    "convnet = dropout(convnet, 0.8)\n",
    "convnet = fully_connected(convnet, 17, activation='softmax')\n",
    "convnet = regression(convnet, optimizer='adam', learning_rate=LR, loss='categorical_crossentropy', name='targets')\n",
    "model = tflearn.DNN(convnet, tensorboard_dir='log', tensorboard_verbose=0)\n",
    "model.fit({'input': X_train}, {'targets': y_train}, n_epoch=10,\n",
    "          validation_set=({'input': X_test}, {'targets': y_test}),\n",
    "          snapshot_step=500, show_metric=True, run_id=MODEL_NAME)"
   ]
  },
  {
   "cell_type": "code",
   "execution_count": 139,
   "metadata": {},
   "outputs": [
    {
     "name": "stdout",
     "output_type": "stream",
     "text": [
      "ROA 0.074362, ROTI 0.053795, SETH 0.040369, STEW 0.032994, RERO 0.076276, OMEYER 0.054575, JR 0.058887, KUKA 0.068381, EVOL 0.048047, GRIS1, 0.057278, BRUSK, 0.045249, PANTONIO, 0.052382, DRAN 0.103840, JEF_AEROSOL 0.068068, ZEVS 0.059074, BANKSY, 0.039736, C215 0.066687\n"
     ]
    },
    {
     "data": {
      "image/png": "[encoded data removed]",
      "text/plain": [
       "<matplotlib.figure.Figure at 0x7f05fc051668>"
      ]
     },
     "metadata": {},
     "output_type": "display_data"
    },
    {
     "data": {
      "text/plain": [
       "<matplotlib.figure.Figure at 0x7f0608108710>"
      ]
     },
     "metadata": {},
     "output_type": "display_data"
    }
   ],
   "source": [
    "d = test_data[3]\n",
    "img_data, img_num = d\n",
    "\n",
    "data = img_data.reshape(IMG_SIZE, IMG_SIZE, 1)\n",
    "prediction = model.predict([data])[0]\n",
    "\n",
    "fig = plt.figure(figsize=(6, 6))\n",
    "ax = fig.add_subplot(111)\n",
    "ax.imshow(img_data, cmap=\"gray\")\n",
    "# print(\"cat: %f, dog: %f\" % (prediction[0], prediction[1]))\n",
    "# print(\"ROA %f, ROTI %f, SETH %f, STEW %f, RERO %f, OMEYER %f, JR %f, KUKA %f, EVOL %f, GRIS1, %f, BRUSK, %f, PANTONIO, %f, DRAN %f, JEF_AEROSOL %f, ZEVS %f, BANKSY, %f, C215 %f\" % (prediction[0],prediction[1], prediction[2], prediction[3], prediction[4], prediction[5], prediction[6], prediction[7], prediction[8], prediction[9],prediction[10] prediction[11], prediction[12], prediction[13], prediction[14], prediction[15], prediction[16]))\n",
    "# print(prediction[0],prediction[1], prediction[2], prediction[3], prediction[4], prediction[5], prediction[6], prediction[7], prediction[8], prediction[9],prediction[10] prediction[11], prediction[12], prediction[13], prediction[14], prediction[15], prediction[16])\n",
    "print(\"ROA %f, ROTI %f, SETH %f, STEW %f, RERO %f, OMEYER %f, JR %f, KUKA %f, EVOL %f, GRIS1, %f, BRUSK, %f, PANTONIO, %f, DRAN %f, JEF_AEROSOL %f, ZEVS %f, BANKSY, %f, C215 %f\" % (prediction[0], prediction[1], prediction[2], prediction[3], prediction[4], prediction[5], prediction[6], prediction[7],prediction[8], prediction[9], prediction[10], prediction[11], prediction[12], prediction[13], prediction[14], prediction[15], prediction[16]))\n",
    "fig=plt.figure(figsize=(16, 12))"
   ]
  },
  {
   "cell_type": "code",
   "execution_count": 154,
   "metadata": {},
   "outputs": [
    {
     "name": "stdout",
     "output_type": "stream",
     "text": [
      "12\n",
      "[ 0.06964841  0.05301102  0.03941751  0.03515743  0.07810862  0.05520077\n",
      "  0.05947606  0.06635191  0.05290971  0.05680865  0.04684858  0.0542149\n",
      "  0.10131485  0.06924689  0.05885803  0.04116259  0.06226409]\n",
      "JEF_AEROSOL\n",
      "12\n",
      "[ 0.07335939  0.05532625  0.04051757  0.03541735  0.07590942  0.05485322\n",
      "  0.05877313  0.06236219  0.05245953  0.05860651  0.04809813  0.05722809\n",
      "  0.09682453  0.06767211  0.05817271  0.04271352  0.06170636]\n",
      "JEF_AEROSOL\n",
      "12\n",
      "[ 0.07067527  0.05146658  0.03865646  0.03632605  0.07565377  0.05785169\n",
      "  0.05800796  0.06681449  0.05724578  0.0545824   0.04753374  0.06242414\n",
      "  0.09663998  0.0656876   0.06058863  0.03871975  0.0611257 ]\n",
      "JEF_AEROSOL\n",
      "12\n",
      "[ 0.07436245  0.05379514  0.04036917  0.03299402  0.07627568  0.05457451\n",
      "  0.05888718  0.06838112  0.04804671  0.05727803  0.04524931  0.05238169\n",
      "  0.10384028  0.0680676   0.05907424  0.03973615  0.06668666]\n",
      "JEF_AEROSOL\n",
      "12\n",
      "[ 0.07221361  0.05324292  0.03798566  0.034685    0.08028082  0.05664538\n",
      "  0.05670601  0.06882492  0.05342562  0.05564746  0.04716429  0.05494875\n",
      "  0.09992389  0.06683848  0.0576494   0.0423411   0.06147664]\n",
      "JEF_AEROSOL\n",
      "12\n",
      "[ 0.07285126  0.05592813  0.04103664  0.03644181  0.06886118  0.05658424\n",
      "  0.05950359  0.06122415  0.05703722  0.06001857  0.04942076  0.05654898\n",
      "  0.09350397  0.06838168  0.0614988   0.04193581  0.05922317]\n",
      "JEF_AEROSOL\n",
      "12\n",
      "[ 0.07119773  0.05635606  0.03974585  0.03645836  0.0792324   0.05865444\n",
      "  0.05516993  0.06291696  0.05673089  0.05635666  0.04959087  0.06043169\n",
      "  0.09499782  0.06446814  0.05719312  0.04165813  0.05884093]\n",
      "JEF_AEROSOL\n",
      "12\n",
      "[ 0.07147278  0.05620304  0.04094085  0.03550139  0.07448493  0.05460397\n",
      "  0.06027601  0.06850093  0.04930606  0.05867109  0.04656574  0.05691671\n",
      "  0.09479614  0.06541176  0.05808507  0.04272091  0.06554265]\n",
      "JEF_AEROSOL\n",
      "12\n",
      "[ 0.07074457  0.05628354  0.04208074  0.03895896  0.07097388  0.05471708\n",
      "  0.06026255  0.0653088   0.05519714  0.05845283  0.04950591  0.05532064\n",
      "  0.09084833  0.06516211  0.06051923  0.04431722  0.06134646]\n",
      "JEF_AEROSOL\n",
      "12\n",
      "[ 0.07591181  0.05548747  0.03976636  0.03358223  0.07320957  0.05347519\n",
      "  0.05914169  0.05791663  0.05756219  0.05834793  0.04706293  0.05384772\n",
      "  0.09939978  0.07661727  0.06112525  0.03804852  0.05949743]\n",
      "JEF_AEROSOL\n",
      "12\n",
      "[ 0.07416917  0.05646197  0.04242828  0.0361681   0.07573605  0.05504489\n",
      "  0.05856808  0.06286764  0.05405386  0.05608624  0.04993182  0.05936462\n",
      "  0.09278468  0.06720278  0.05814109  0.04045486  0.06053586]\n",
      "JEF_AEROSOL\n",
      "12\n",
      "[ 0.07147586  0.05191405  0.03890676  0.03687175  0.07419236  0.05543504\n",
      "  0.05887777  0.06666415  0.05614708  0.05544132  0.04739074  0.059974\n",
      "  0.09744561  0.06482535  0.06271473  0.03931847  0.06240495]\n",
      "JEF_AEROSOL\n",
      "12\n",
      "[ 0.06849336  0.05689687  0.04573246  0.04163633  0.07297888  0.05594192\n",
      "  0.05785568  0.06154187  0.05505845  0.05867053  0.05009069  0.05858509\n",
      "  0.08619753  0.06552061  0.05847914  0.04563698  0.0606835 ]\n",
      "JEF_AEROSOL\n",
      "12\n",
      "[ 0.06981816  0.05470868  0.04577517  0.04343297  0.07265205  0.05543688\n",
      "  0.05565218  0.06205888  0.05736821  0.05660683  0.05190475  0.05565077\n",
      "  0.08759871  0.06629104  0.06043211  0.04459995  0.06001262]\n",
      "JEF_AEROSOL\n",
      "12\n",
      "[ 0.07018621  0.0555748   0.04839138  0.04368192  0.06776155  0.05438649\n",
      "  0.05973417  0.06666239  0.05745108  0.05548689  0.0529501   0.05300101\n",
      "  0.08092149  0.06601381  0.06086119  0.0448871   0.06204844]\n",
      "JEF_AEROSOL\n",
      "12\n",
      "[ 0.07338113  0.05160147  0.03820439  0.03328013  0.07769327  0.05482752\n",
      "  0.06120161  0.06569631  0.05407466  0.0562686   0.04417662  0.05478707\n",
      "  0.10172222  0.07272208  0.05939689  0.03687127  0.06409478]\n",
      "JEF_AEROSOL\n"
     ]
    },
    {
     "name": "stderr",
     "output_type": "stream",
     "text": [
      "/usr/local/lib/python3.5/dist-packages/matplotlib/cbook/deprecation.py:106: MatplotlibDeprecationWarning: Adding an axes using the same arguments as a previous axes currently reuses the earlier instance.  In a future version, a new instance will always be created and returned.  Meanwhile, this warning can be suppressed, and the future behavior ensured, by passing a unique label to each axes instance.\n",
      "  warnings.warn(message, mplDeprecation, stacklevel=1)\n"
     ]
    },
    {
     "data": {
      "image/png": "[encoded data removed]",
      "text/plain": [
       "<matplotlib.figure.Figure at 0x7f05fc549d30>"
      ]
     },
     "metadata": {},
     "output_type": "display_data"
    },
    {
     "name": "stdout",
     "output_type": "stream",
     "text": [
      "INFO:tensorflow:/home/eren_ozdek/image_classifier/art42/ART42_img/art42-convnet is not in all_model_checkpoint_paths. Manually adding it.\n"
     ]
    }
   ],
   "source": [
    "# print(test_data[:16])\n",
    "for num, data in enumerate(test_data[:16]):\n",
    "#     print(num)\n",
    "    img_num = data[1]\n",
    "    img_data = data[0]\n",
    "\n",
    "    y = fig.add_subplot(4, 4, num+1)\n",
    "    orig = img_data\n",
    "    data = img_data.reshape(IMG_SIZE, IMG_SIZE, 1)\n",
    "    model_out = model.predict([data])[0]\n",
    "#     if np.argmax(model_out) == 1:\n",
    "#         str_label='Dog'\n",
    "#     else:\n",
    "#         str_label='Cat'\n",
    "    print(np.argmax(model_out))\n",
    "    print(model_out)\n",
    "    str_label = art_list[np.argmax(model_out)]\n",
    "    print(str_label)\n",
    "    y.imshow(orig, cmap='gray')\n",
    "    plt.title(str_label)\n",
    "    y.axes.get_xaxis().set_visible(False)\n",
    "    y.axes.get_yaxis().set_visible(False)\n",
    "plt.show()\n",
    "\n",
    "model.save(MODEL_NAME)"
   ]
  },
  {
   "cell_type": "code",
   "execution_count": 144,
   "metadata": {},
   "outputs": [
    {
     "name": "stderr",
     "output_type": "stream",
     "text": [
      "  0%|          | 0/35 [00:00<?, ?it/s]/usr/local/lib/python3.5/dist-packages/matplotlib/cbook/deprecation.py:106: MatplotlibDeprecationWarning: Adding an axes using the same arguments as a previous axes currently reuses the earlier instance.  In a future version, a new instance will always be created and returned.  Meanwhile, this warning can be suppressed, and the future behavior ensured, by passing a unique label to each axes instance.\n",
      "  warnings.warn(message, mplDeprecation, stacklevel=1)\n",
      "100%|██████████| 35/35 [00:00<00:00, 272.68it/s]\n"
     ]
    }
   ],
   "source": [
    "\n",
    "with open('submission-fle.csv', 'w') as f:\n",
    "    for data in tqdm(test_data):\n",
    "        img_num = data[1]\n",
    "        img_data = data[0]\n",
    "\n",
    "        y = fig.add_subplot(4, 4, num+1)\n",
    "        orig = img_data\n",
    "        data = img_data.reshape(IMG_SIZE, IMG_SIZE, 1)\n",
    "        model_out = model.predict([data])[0]\n",
    "        f.write('{},{}\\n'.format(img_num, model_out[1]))"
   ]
  },
  {
   "cell_type": "code",
   "execution_count": null,
   "metadata": {},
   "outputs": [],
   "source": []
  }
 ],
 "metadata": {
  "kernelspec": {
   "display_name": "Python 3",
   "language": "python",
   "name": "python3"
  },
  "language_info": {
   "codemirror_mode": {
    "name": "ipython",
    "version": 3
   },
   "file_extension": ".py",
   "mimetype": "text/x-python",
   "name": "python",
   "nbconvert_exporter": "python",
   "pygments_lexer": "ipython3",
   "version": "3.5.2"
  }
 },
 "nbformat": 4,
 "nbformat_minor": 2
}
